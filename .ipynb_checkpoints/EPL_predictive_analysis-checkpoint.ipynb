{
 "cells": [
  {
   "cell_type": "code",
   "execution_count": 1,
   "id": "c13282c6-bafa-427f-9b54-275c5876306b",
   "metadata": {},
   "outputs": [],
   "source": [
    "# This is a predictive analysis project to predict match winners in the English Premier League"
   ]
  },
  {
   "cell_type": "code",
   "execution_count": 2,
   "id": "fa64e9ce-9b6e-4b6c-99eb-62fdd57512fb",
   "metadata": {},
   "outputs": [],
   "source": [
    "# Importing libraries\n",
    "import pandas as pd"
   ]
  },
  {
   "cell_type": "code",
   "execution_count": null,
   "id": "9971e664-e853-4f05-817e-e5d15749e3a5",
   "metadata": {},
   "outputs": [],
   "source": [
    "# reading match data into a pandas dataframe\n"
   ]
  }
 ],
 "metadata": {
  "kernelspec": {
   "display_name": "Python 3 (ipykernel)",
   "language": "python",
   "name": "python3"
  },
  "language_info": {
   "codemirror_mode": {
    "name": "ipython",
    "version": 3
   },
   "file_extension": ".py",
   "mimetype": "text/x-python",
   "name": "python",
   "nbconvert_exporter": "python",
   "pygments_lexer": "ipython3",
   "version": "3.10.6"
  }
 },
 "nbformat": 4,
 "nbformat_minor": 5
}
